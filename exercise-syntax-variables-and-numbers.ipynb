{
 "cells": [
  {
   "cell_type": "markdown",
   "id": "9ab2f939",
   "metadata": {
    "papermill": {
     "duration": 0.013095,
     "end_time": "2024-11-06T13:08:37.563904",
     "exception": false,
     "start_time": "2024-11-06T13:08:37.550809",
     "status": "completed"
    },
    "tags": []
   },
   "source": [
    "**This notebook is an exercise in the [Python](https://www.kaggle.com/learn/python) course.  You can reference the tutorial at [this link](https://www.kaggle.com/colinmorris/hello-python).**\n",
    "\n",
    "---\n"
   ]
  },
  {
   "cell_type": "markdown",
   "id": "d7eaed0f",
   "metadata": {
    "papermill": {
     "duration": 0.008379,
     "end_time": "2024-11-06T13:08:37.581849",
     "exception": false,
     "start_time": "2024-11-06T13:08:37.573470",
     "status": "completed"
    },
    "tags": []
   },
   "source": [
    "Welcome to your first set of Python coding problems.  If this is your first time using Kaggle Notebooks, welcome! \n",
    "\n",
    "Notebooks are composed of blocks (called \"cells\") of text and code. Each of these is editable, though you'll mainly be editing the code cells to answer some questions.\n",
    "\n",
    "To get started, try running the code cell below (by pressing the ► button, or clicking on the cell and pressing ctrl+enter on your keyboard)."
   ]
  },
  {
   "cell_type": "code",
   "execution_count": 1,
   "id": "2bb3576f",
   "metadata": {
    "execution": {
     "iopub.execute_input": "2024-11-06T13:08:37.601717Z",
     "iopub.status.busy": "2024-11-06T13:08:37.601137Z",
     "iopub.status.idle": "2024-11-06T13:08:37.618051Z",
     "shell.execute_reply": "2024-11-06T13:08:37.616407Z"
    },
    "papermill": {
     "duration": 0.030273,
     "end_time": "2024-11-06T13:08:37.620785",
     "exception": false,
     "start_time": "2024-11-06T13:08:37.590512",
     "status": "completed"
    },
    "tags": []
   },
   "outputs": [
    {
     "name": "stdout",
     "output_type": "stream",
     "text": [
      "You've successfully run some Python code\n",
      "Congratulations!\n"
     ]
    }
   ],
   "source": [
    "print(\"You've successfully run some Python code\")\n",
    "print(\"Congratulations!\")"
   ]
  },
  {
   "cell_type": "code",
   "execution_count": 2,
   "id": "6f68c7fc",
   "metadata": {
    "execution": {
     "iopub.execute_input": "2024-11-06T13:08:37.641308Z",
     "iopub.status.busy": "2024-11-06T13:08:37.640117Z",
     "iopub.status.idle": "2024-11-06T13:08:37.647136Z",
     "shell.execute_reply": "2024-11-06T13:08:37.645847Z"
    },
    "papermill": {
     "duration": 0.020313,
     "end_time": "2024-11-06T13:08:37.649987",
     "exception": false,
     "start_time": "2024-11-06T13:08:37.629674",
     "status": "completed"
    },
    "tags": []
   },
   "outputs": [
    {
     "name": "stdout",
     "output_type": "stream",
     "text": [
      "congrats\n"
     ]
    }
   ],
   "source": [
    "print(\"congrats\")"
   ]
  },
  {
   "cell_type": "markdown",
   "id": "1644b1ca",
   "metadata": {
    "papermill": {
     "duration": 0.008624,
     "end_time": "2024-11-06T13:08:37.667555",
     "exception": false,
     "start_time": "2024-11-06T13:08:37.658931",
     "status": "completed"
    },
    "tags": []
   },
   "source": [
    "Try adding another line of code in the cell above and re-running it. \n",
    "\n",
    "Now let's get a little fancier:  Add a new code cell by clicking on an existing code cell, hitting the escape key, and then hitting the `a` or `b` key.  The `a` key will add a cell above the current cell, and `b` adds a cell below.\n",
    "\n",
    "Great! Now you know how to use Notebooks.\n",
    "\n",
    "Each hands-on exercise starts by setting up our feedback and code checking mechanism. Run the code cell below to do that. Then you'll be ready to move on to question 0."
   ]
  },
  {
   "cell_type": "code",
   "execution_count": 3,
   "id": "7e197d8b",
   "metadata": {
    "_kg_hide-input": true,
    "_kg_hide-output": true,
    "execution": {
     "iopub.execute_input": "2024-11-06T13:08:37.689062Z",
     "iopub.status.busy": "2024-11-06T13:08:37.688029Z",
     "iopub.status.idle": "2024-11-06T13:08:38.726225Z",
     "shell.execute_reply": "2024-11-06T13:08:38.725065Z"
    },
    "papermill": {
     "duration": 1.051278,
     "end_time": "2024-11-06T13:08:38.728938",
     "exception": false,
     "start_time": "2024-11-06T13:08:37.677660",
     "status": "completed"
    },
    "tags": []
   },
   "outputs": [
    {
     "name": "stdout",
     "output_type": "stream",
     "text": [
      "Setup complete! You're ready to start question 0.\n"
     ]
    }
   ],
   "source": [
    "from learntools.core import binder; binder.bind(globals())\n",
    "from learntools.python.ex1 import *\n",
    "print(\"Setup complete! You're ready to start question 0.\")"
   ]
  },
  {
   "cell_type": "markdown",
   "id": "fb8ff028",
   "metadata": {
    "papermill": {
     "duration": 0.008635,
     "end_time": "2024-11-06T13:08:38.746684",
     "exception": false,
     "start_time": "2024-11-06T13:08:38.738049",
     "status": "completed"
    },
    "tags": []
   },
   "source": [
    "# 0.\n",
    "\n",
    "*This is a silly question intended as an introduction to the format we use for hands-on exercises throughout all Kaggle courses.*\n",
    "\n",
    "**What is your favorite color? **\n",
    "\n",
    "To complete this question, create a variable called `color` in the cell below with an appropriate value. The function call `q0.check()` (which we've already provided in the cell below) will check your answer."
   ]
  },
  {
   "cell_type": "code",
   "execution_count": 4,
   "id": "825bfe60",
   "metadata": {
    "execution": {
     "iopub.execute_input": "2024-11-06T13:08:38.768413Z",
     "iopub.status.busy": "2024-11-06T13:08:38.767826Z",
     "iopub.status.idle": "2024-11-06T13:08:38.779875Z",
     "shell.execute_reply": "2024-11-06T13:08:38.778573Z"
    },
    "papermill": {
     "duration": 0.025343,
     "end_time": "2024-11-06T13:08:38.782559",
     "exception": false,
     "start_time": "2024-11-06T13:08:38.757216",
     "status": "completed"
    },
    "tags": []
   },
   "outputs": [
    {
     "data": {
      "application/javascript": [
       "parent.postMessage({\"jupyterEvent\": \"custom.exercise_interaction\", \"data\": {\"outcomeType\": 4, \"interactionType\": 1, \"questionType\": 2, \"questionId\": \"0_ExerciseFormatTutorial\", \"learnToolsVersion\": \"0.3.4\", \"valueTowardsCompletion\": 0.0, \"failureMessage\": \"\", \"exceptionClass\": \"\", \"trace\": \"\"}}, \"*\")"
      ],
      "text/plain": [
       "<IPython.core.display.Javascript object>"
      ]
     },
     "metadata": {},
     "output_type": "display_data"
    },
    {
     "data": {
      "text/markdown": [
       "<span style=\"color:#ccaa33\">Check:</span> When you've updated the starter code, `check()` will tell you whether your code is correct. Remember, you must create the following variable: `color`"
      ],
      "text/plain": [
       "Check: When you've updated the starter code, `check()` will tell you whether your code is correct. Remember, you must create the following variable: `color`"
      ]
     },
     "metadata": {},
     "output_type": "display_data"
    }
   ],
   "source": [
    "# create a variable called color with an appropriate value on the line below\n",
    "# (Remember, strings in Python must be enclosed in 'single' or \"double\" quotes)\n",
    "____\n",
    "\n",
    "# Check your answer\n",
    "q0.check()"
   ]
  },
  {
   "cell_type": "markdown",
   "id": "537f25e9",
   "metadata": {
    "papermill": {
     "duration": 0.00906,
     "end_time": "2024-11-06T13:08:38.801169",
     "exception": false,
     "start_time": "2024-11-06T13:08:38.792109",
     "status": "completed"
    },
    "tags": []
   },
   "source": [
    "Didn't get the right answer? How do you not even know your own favorite color?!\n",
    "\n",
    "Delete the `#` in the line below to make one of the lines run. You can choose between getting a hint or the full answer by choosing which line to remove the `#` from. \n",
    "\n",
    "Removing the `#` is called uncommenting, because it changes that line from a \"comment\" which Python doesn't run to code, which Python does run."
   ]
  },
  {
   "cell_type": "code",
   "execution_count": 5,
   "id": "2d9d5cec",
   "metadata": {
    "execution": {
     "iopub.execute_input": "2024-11-06T13:08:38.821675Z",
     "iopub.status.busy": "2024-11-06T13:08:38.821203Z",
     "iopub.status.idle": "2024-11-06T13:08:38.826284Z",
     "shell.execute_reply": "2024-11-06T13:08:38.825051Z"
    },
    "papermill": {
     "duration": 0.018202,
     "end_time": "2024-11-06T13:08:38.828767",
     "exception": false,
     "start_time": "2024-11-06T13:08:38.810565",
     "status": "completed"
    },
    "tags": []
   },
   "outputs": [],
   "source": [
    "#q0.hint()\n",
    "#q0.solution()"
   ]
  },
  {
   "cell_type": "markdown",
   "id": "ab3bd9f3",
   "metadata": {
    "papermill": {
     "duration": 0.009296,
     "end_time": "2024-11-06T13:08:38.848007",
     "exception": false,
     "start_time": "2024-11-06T13:08:38.838711",
     "status": "completed"
    },
    "tags": []
   },
   "source": [
    "The upcoming questions work the same way. The only thing that will change are the question numbers. For the next question, you'll call `q1.check()`, `q1.hint()`, `q1.solution()`, for question 2, you'll call `q2.check()`, and so on."
   ]
  },
  {
   "cell_type": "markdown",
   "id": "ddecb40c",
   "metadata": {
    "papermill": {
     "duration": 0.009077,
     "end_time": "2024-11-06T13:08:38.866427",
     "exception": false,
     "start_time": "2024-11-06T13:08:38.857350",
     "status": "completed"
    },
    "tags": []
   },
   "source": [
    "<hr/>\n",
    "\n",
    "# 1.\n",
    "\n",
    "Complete the code below. In case it's helpful, here is the table of available arithmetic operations:\n",
    "\n",
    "\n",
    "\n",
    "| Operator     | Name           | Description                                            |\n",
    "|--------------|----------------|--------------------------------------------------------|\n",
    "| ``a + b``    | Addition       | Sum of ``a`` and ``b``                                 |\n",
    "| ``a - b``    | Subtraction    | Difference of ``a`` and ``b``                          |\n",
    "| ``a * b``    | Multiplication | Product of ``a`` and ``b``                             |\n",
    "| ``a / b``    | True division  | Quotient of ``a`` and ``b``                            |\n",
    "| ``a // b``   | Floor division | Quotient of ``a`` and ``b``, removing fractional parts |\n",
    "| ``a % b``    | Modulus        | Integer remainder after division of ``a`` by ``b``     |\n",
    "| ``a ** b``   | Exponentiation | ``a`` raised to the power of ``b``                     |\n",
    "| ``-a``       | Negation       | The negative of ``a``                                  |\n",
    "\n",
    "<span style=\"display:none\"></span>\n"
   ]
  },
  {
   "cell_type": "code",
   "execution_count": 6,
   "id": "a2c2fb25",
   "metadata": {
    "execution": {
     "iopub.execute_input": "2024-11-06T13:08:38.887612Z",
     "iopub.status.busy": "2024-11-06T13:08:38.887075Z",
     "iopub.status.idle": "2024-11-06T13:08:38.898242Z",
     "shell.execute_reply": "2024-11-06T13:08:38.897038Z"
    },
    "papermill": {
     "duration": 0.025038,
     "end_time": "2024-11-06T13:08:38.900980",
     "exception": false,
     "start_time": "2024-11-06T13:08:38.875942",
     "status": "completed"
    },
    "tags": []
   },
   "outputs": [
    {
     "data": {
      "application/javascript": [
       "parent.postMessage({\"jupyterEvent\": \"custom.exercise_interaction\", \"data\": {\"outcomeType\": 4, \"interactionType\": 1, \"questionType\": 1, \"questionId\": \"1_CircleArea\", \"learnToolsVersion\": \"0.3.4\", \"valueTowardsCompletion\": 0.0, \"failureMessage\": \"\", \"exceptionClass\": \"\", \"trace\": \"\"}}, \"*\")"
      ],
      "text/plain": [
       "<IPython.core.display.Javascript object>"
      ]
     },
     "metadata": {},
     "output_type": "display_data"
    },
    {
     "data": {
      "text/markdown": [
       "<span style=\"color:#ccaa33\">Check:</span> When you've updated the starter code, `check()` will tell you whether your code is correct. Remember, you must create the following variables: `area`, `radius`"
      ],
      "text/plain": [
       "Check: When you've updated the starter code, `check()` will tell you whether your code is correct. Remember, you must create the following variables: `area`, `radius`"
      ]
     },
     "metadata": {},
     "output_type": "display_data"
    }
   ],
   "source": [
    "pi = 3.14159 # approximate\n",
    "diameter = 3\n",
    "\n",
    "# Create a variable called 'radius' equal to half the diameter\n",
    "____\n",
    "\n",
    "# Create a variable called 'area', using the formula for the area of a circle: pi times the radius squared\n",
    "____\n",
    "\n",
    "# Check your answer\n",
    "q1.check()"
   ]
  },
  {
   "cell_type": "code",
   "execution_count": null,
   "id": "12ba1cc8",
   "metadata": {
    "papermill": {
     "duration": 0.009506,
     "end_time": "2024-11-06T13:08:38.920423",
     "exception": false,
     "start_time": "2024-11-06T13:08:38.910917",
     "status": "completed"
    },
    "tags": []
   },
   "outputs": [],
   "source": []
  },
  {
   "cell_type": "code",
   "execution_count": 7,
   "id": "27824d41",
   "metadata": {
    "execution": {
     "iopub.execute_input": "2024-11-06T13:08:38.942560Z",
     "iopub.status.busy": "2024-11-06T13:08:38.942038Z",
     "iopub.status.idle": "2024-11-06T13:08:38.947335Z",
     "shell.execute_reply": "2024-11-06T13:08:38.945969Z"
    },
    "papermill": {
     "duration": 0.019642,
     "end_time": "2024-11-06T13:08:38.950065",
     "exception": false,
     "start_time": "2024-11-06T13:08:38.930423",
     "status": "completed"
    },
    "tags": []
   },
   "outputs": [],
   "source": [
    "# Uncomment and run the lines below if you need help.\n",
    "#q1.hint()\n",
    "#q1.solution()"
   ]
  },
  {
   "cell_type": "markdown",
   "id": "1de01c06",
   "metadata": {
    "papermill": {
     "duration": 0.009573,
     "end_time": "2024-11-06T13:08:38.969756",
     "exception": false,
     "start_time": "2024-11-06T13:08:38.960183",
     "status": "completed"
    },
    "tags": []
   },
   "source": [
    "<hr/>\n",
    "\n",
    "# 2.\n",
    "\n",
    "Add code to the following cell to swap variables `a` and `b` (so that `a` refers to the object previously referred to by `b` and vice versa)."
   ]
  },
  {
   "cell_type": "code",
   "execution_count": 8,
   "id": "cfed158e",
   "metadata": {
    "execution": {
     "iopub.execute_input": "2024-11-06T13:08:38.991309Z",
     "iopub.status.busy": "2024-11-06T13:08:38.990865Z",
     "iopub.status.idle": "2024-11-06T13:08:39.003430Z",
     "shell.execute_reply": "2024-11-06T13:08:39.000957Z"
    },
    "papermill": {
     "duration": 0.026624,
     "end_time": "2024-11-06T13:08:39.006220",
     "exception": false,
     "start_time": "2024-11-06T13:08:38.979596",
     "status": "completed"
    },
    "tags": []
   },
   "outputs": [
    {
     "data": {
      "application/javascript": [
       "parent.postMessage({\"jupyterEvent\": \"custom.exercise_interaction\", \"data\": {\"outcomeType\": 2, \"failureMessage\": \"`a` and `b` still have their original values.\", \"interactionType\": 1, \"questionType\": 2, \"questionId\": \"2_VariableSwap\", \"learnToolsVersion\": \"0.3.4\", \"valueTowardsCompletion\": 0.0, \"exceptionClass\": \"\", \"trace\": \"\"}}, \"*\")"
      ],
      "text/plain": [
       "<IPython.core.display.Javascript object>"
      ]
     },
     "metadata": {},
     "output_type": "display_data"
    },
    {
     "data": {
      "text/markdown": [
       "<span style=\"color:#cc3333\">Incorrect:</span> `a` and `b` still have their original values."
      ],
      "text/plain": [
       "Incorrect: `a` and `b` still have their original values."
      ]
     },
     "metadata": {},
     "output_type": "display_data"
    }
   ],
   "source": [
    "########### Setup code - don't touch this part ######################\n",
    "# If you're curious, these are examples of lists. We'll talk about \n",
    "# them in depth a few lessons from now. For now, just know that they're\n",
    "# yet another type of Python object, like int or float.\n",
    "a = [1, 2, 3]\n",
    "b = [3, 2, 1]\n",
    "q2.store_original_ids()\n",
    "######################################################################\n",
    "\n",
    "# Your code goes here. Swap the values to which a and b refer.\n",
    "# If you get stuck, you can always uncomment one or both of the lines in\n",
    "# the next cell for a hint, or to peek at the solution.\n",
    "\n",
    "######################################################################\n",
    "\n",
    "# Check your answer\n",
    "q2.check()"
   ]
  },
  {
   "cell_type": "code",
   "execution_count": 9,
   "id": "655808f0",
   "metadata": {
    "execution": {
     "iopub.execute_input": "2024-11-06T13:08:39.028983Z",
     "iopub.status.busy": "2024-11-06T13:08:39.028515Z",
     "iopub.status.idle": "2024-11-06T13:08:39.034057Z",
     "shell.execute_reply": "2024-11-06T13:08:39.032816Z"
    },
    "papermill": {
     "duration": 0.020061,
     "end_time": "2024-11-06T13:08:39.036775",
     "exception": false,
     "start_time": "2024-11-06T13:08:39.016714",
     "status": "completed"
    },
    "tags": []
   },
   "outputs": [],
   "source": [
    "#q2.hint()"
   ]
  },
  {
   "cell_type": "code",
   "execution_count": 10,
   "id": "0e98eb9f",
   "metadata": {
    "execution": {
     "iopub.execute_input": "2024-11-06T13:08:39.059631Z",
     "iopub.status.busy": "2024-11-06T13:08:39.059146Z",
     "iopub.status.idle": "2024-11-06T13:08:39.064250Z",
     "shell.execute_reply": "2024-11-06T13:08:39.063104Z"
    },
    "papermill": {
     "duration": 0.019646,
     "end_time": "2024-11-06T13:08:39.066905",
     "exception": false,
     "start_time": "2024-11-06T13:08:39.047259",
     "status": "completed"
    },
    "tags": []
   },
   "outputs": [],
   "source": [
    "#q2.solution()"
   ]
  },
  {
   "cell_type": "markdown",
   "id": "52e12ac8",
   "metadata": {
    "papermill": {
     "duration": 0.010067,
     "end_time": "2024-11-06T13:08:39.087216",
     "exception": false,
     "start_time": "2024-11-06T13:08:39.077149",
     "status": "completed"
    },
    "tags": []
   },
   "source": [
    "<hr/>\n",
    "\n",
    "# 3a.\n",
    "\n",
    "Add parentheses to the following expression so that it evaluates to 1."
   ]
  },
  {
   "cell_type": "code",
   "execution_count": 11,
   "id": "61a4bb86",
   "metadata": {
    "execution": {
     "iopub.execute_input": "2024-11-06T13:08:39.110041Z",
     "iopub.status.busy": "2024-11-06T13:08:39.109581Z",
     "iopub.status.idle": "2024-11-06T13:08:39.117062Z",
     "shell.execute_reply": "2024-11-06T13:08:39.115828Z"
    },
    "papermill": {
     "duration": 0.022035,
     "end_time": "2024-11-06T13:08:39.119559",
     "exception": false,
     "start_time": "2024-11-06T13:08:39.097524",
     "status": "completed"
    },
    "tags": []
   },
   "outputs": [
    {
     "data": {
      "text/plain": [
       "4"
      ]
     },
     "execution_count": 11,
     "metadata": {},
     "output_type": "execute_result"
    }
   ],
   "source": [
    "5 - 3 // 2"
   ]
  },
  {
   "cell_type": "code",
   "execution_count": 12,
   "id": "30b32728",
   "metadata": {
    "execution": {
     "iopub.execute_input": "2024-11-06T13:08:39.142714Z",
     "iopub.status.busy": "2024-11-06T13:08:39.142221Z",
     "iopub.status.idle": "2024-11-06T13:08:39.147700Z",
     "shell.execute_reply": "2024-11-06T13:08:39.146462Z"
    },
    "papermill": {
     "duration": 0.019975,
     "end_time": "2024-11-06T13:08:39.150220",
     "exception": false,
     "start_time": "2024-11-06T13:08:39.130245",
     "status": "completed"
    },
    "tags": []
   },
   "outputs": [],
   "source": [
    "#q3.a.hint()"
   ]
  },
  {
   "cell_type": "code",
   "execution_count": 13,
   "id": "07bf0e25",
   "metadata": {
    "execution": {
     "iopub.execute_input": "2024-11-06T13:08:39.174835Z",
     "iopub.status.busy": "2024-11-06T13:08:39.173535Z",
     "iopub.status.idle": "2024-11-06T13:08:39.184842Z",
     "shell.execute_reply": "2024-11-06T13:08:39.183368Z"
    },
    "papermill": {
     "duration": 0.026398,
     "end_time": "2024-11-06T13:08:39.187386",
     "exception": false,
     "start_time": "2024-11-06T13:08:39.160988",
     "status": "completed"
    },
    "tags": []
   },
   "outputs": [
    {
     "data": {
      "application/javascript": [
       "parent.postMessage({\"jupyterEvent\": \"custom.exercise_interaction\", \"data\": {\"interactionType\": 3, \"questionType\": 4, \"questionId\": \"3.1_ArithmeticParensEasy\", \"learnToolsVersion\": \"0.3.4\", \"valueTowardsCompletion\": 0.0, \"failureMessage\": \"\", \"exceptionClass\": \"\", \"trace\": \"\", \"outcomeType\": 4}}, \"*\")"
      ],
      "text/plain": [
       "<IPython.core.display.Javascript object>"
      ]
     },
     "metadata": {},
     "output_type": "display_data"
    },
    {
     "data": {
      "text/markdown": [
       "<span style=\"color:#33cc99\">Solution:</span> \n",
       "```python\n",
       "(5 - 3) // 2\n",
       "```"
      ],
      "text/plain": [
       "Solution: \n",
       "```python\n",
       "(5 - 3) // 2\n",
       "```"
      ]
     },
     "metadata": {},
     "output_type": "display_data"
    }
   ],
   "source": [
    "# Check your answer (Run this code cell to receive credit!)\n",
    "q3.a.solution()"
   ]
  },
  {
   "cell_type": "markdown",
   "id": "93cb2531",
   "metadata": {
    "papermill": {
     "duration": 0.010773,
     "end_time": "2024-11-06T13:08:39.209755",
     "exception": false,
     "start_time": "2024-11-06T13:08:39.198982",
     "status": "completed"
    },
    "tags": []
   },
   "source": [
    "# 3b.  <span title=\"A bit spicy\" style=\"color: darkgreen \">🌶️</span>\n",
    "\n",
    "<small>Questions, like this one, marked a spicy pepper are a bit harder.</small>\n",
    "\n",
    "Add parentheses to the following expression so that it evaluates to 0."
   ]
  },
  {
   "cell_type": "code",
   "execution_count": 14,
   "id": "200a3e66",
   "metadata": {
    "execution": {
     "iopub.execute_input": "2024-11-06T13:08:39.233607Z",
     "iopub.status.busy": "2024-11-06T13:08:39.233126Z",
     "iopub.status.idle": "2024-11-06T13:08:39.240986Z",
     "shell.execute_reply": "2024-11-06T13:08:39.239616Z"
    },
    "papermill": {
     "duration": 0.022956,
     "end_time": "2024-11-06T13:08:39.243562",
     "exception": false,
     "start_time": "2024-11-06T13:08:39.220606",
     "status": "completed"
    },
    "tags": []
   },
   "outputs": [
    {
     "data": {
      "text/plain": [
       "2"
      ]
     },
     "execution_count": 14,
     "metadata": {},
     "output_type": "execute_result"
    }
   ],
   "source": [
    "8 - 3 * 2 - 1 + 1"
   ]
  },
  {
   "cell_type": "code",
   "execution_count": 15,
   "id": "8ddeef70",
   "metadata": {
    "execution": {
     "iopub.execute_input": "2024-11-06T13:08:39.268712Z",
     "iopub.status.busy": "2024-11-06T13:08:39.267845Z",
     "iopub.status.idle": "2024-11-06T13:08:39.273819Z",
     "shell.execute_reply": "2024-11-06T13:08:39.272580Z"
    },
    "papermill": {
     "duration": 0.021581,
     "end_time": "2024-11-06T13:08:39.276443",
     "exception": false,
     "start_time": "2024-11-06T13:08:39.254862",
     "status": "completed"
    },
    "tags": []
   },
   "outputs": [],
   "source": [
    "#q3.b.hint()"
   ]
  },
  {
   "cell_type": "code",
   "execution_count": 16,
   "id": "71db2417",
   "metadata": {
    "execution": {
     "iopub.execute_input": "2024-11-06T13:08:39.301342Z",
     "iopub.status.busy": "2024-11-06T13:08:39.300897Z",
     "iopub.status.idle": "2024-11-06T13:08:39.310785Z",
     "shell.execute_reply": "2024-11-06T13:08:39.309646Z"
    },
    "papermill": {
     "duration": 0.025366,
     "end_time": "2024-11-06T13:08:39.313308",
     "exception": false,
     "start_time": "2024-11-06T13:08:39.287942",
     "status": "completed"
    },
    "tags": []
   },
   "outputs": [
    {
     "data": {
      "application/javascript": [
       "parent.postMessage({\"jupyterEvent\": \"custom.exercise_interaction\", \"data\": {\"interactionType\": 3, \"questionType\": 4, \"questionId\": \"3.2_ArithmeticParensHard\", \"learnToolsVersion\": \"0.3.4\", \"valueTowardsCompletion\": 0.0, \"failureMessage\": \"\", \"exceptionClass\": \"\", \"trace\": \"\", \"outcomeType\": 4}}, \"*\")"
      ],
      "text/plain": [
       "<IPython.core.display.Javascript object>"
      ]
     },
     "metadata": {},
     "output_type": "display_data"
    },
    {
     "data": {
      "text/markdown": [
       "<span style=\"color:#33cc99\">Solution:</span> `(8 - 3) * (2 - (1 + 1))` is one solution. There may be others."
      ],
      "text/plain": [
       "Solution: `(8 - 3) * (2 - (1 + 1))` is one solution. There may be others."
      ]
     },
     "metadata": {},
     "output_type": "display_data"
    }
   ],
   "source": [
    "# Check your answer (Run this code cell to receive credit!)\n",
    "q3.b.solution()"
   ]
  },
  {
   "cell_type": "markdown",
   "id": "5904b6de",
   "metadata": {
    "papermill": {
     "duration": 0.011492,
     "end_time": "2024-11-06T13:08:39.336549",
     "exception": false,
     "start_time": "2024-11-06T13:08:39.325057",
     "status": "completed"
    },
    "tags": []
   },
   "source": [
    "<hr/>\n",
    "\n",
    "# 4. \n",
    "Alice, Bob and Carol have agreed to pool their Halloween candy and split it evenly among themselves.\n",
    "For the sake of their friendship, any candies left over will be smashed. For example, if they collectively\n",
    "bring home 91 candies, they'll take 30 each and smash 1.\n",
    "\n",
    "Write an arithmetic expression below to calculate how many candies they must smash for a given haul."
   ]
  },
  {
   "cell_type": "code",
   "execution_count": 17,
   "id": "e45cd427",
   "metadata": {
    "execution": {
     "iopub.execute_input": "2024-11-06T13:08:39.362372Z",
     "iopub.status.busy": "2024-11-06T13:08:39.361916Z",
     "iopub.status.idle": "2024-11-06T13:08:39.373571Z",
     "shell.execute_reply": "2024-11-06T13:08:39.372321Z"
    },
    "papermill": {
     "duration": 0.027522,
     "end_time": "2024-11-06T13:08:39.376035",
     "exception": false,
     "start_time": "2024-11-06T13:08:39.348513",
     "status": "completed"
    },
    "tags": []
   },
   "outputs": [
    {
     "data": {
      "application/javascript": [
       "parent.postMessage({\"jupyterEvent\": \"custom.exercise_interaction\", \"data\": {\"outcomeType\": 4, \"interactionType\": 1, \"questionType\": 1, \"questionId\": \"4_CandySplitting\", \"learnToolsVersion\": \"0.3.4\", \"valueTowardsCompletion\": 0.0, \"failureMessage\": \"\", \"exceptionClass\": \"\", \"trace\": \"\"}}, \"*\")"
      ],
      "text/plain": [
       "<IPython.core.display.Javascript object>"
      ]
     },
     "metadata": {},
     "output_type": "display_data"
    },
    {
     "data": {
      "text/markdown": [
       "<span style=\"color:#ccaa33\">Check:</span> When you've updated the starter code, `check()` will tell you whether your code is correct. You need to update the code that creates variable `to_smash`"
      ],
      "text/plain": [
       "Check: When you've updated the starter code, `check()` will tell you whether your code is correct. You need to update the code that creates variable `to_smash`"
      ]
     },
     "metadata": {},
     "output_type": "display_data"
    }
   ],
   "source": [
    "# Variables representing the number of candies collected by alice, bob, and carol\n",
    "alice_candies = 121\n",
    "bob_candies = 77\n",
    "carol_candies = 109\n",
    "\n",
    "# Your code goes here! Replace the right-hand side of this assignment with an expression\n",
    "# involving alice_candies, bob_candies, and carol_candies\n",
    "to_smash = -1\n",
    "\n",
    "# Check your answer\n",
    "q4.check()"
   ]
  },
  {
   "cell_type": "code",
   "execution_count": 18,
   "id": "68b34dc9",
   "metadata": {
    "execution": {
     "iopub.execute_input": "2024-11-06T13:08:39.402817Z",
     "iopub.status.busy": "2024-11-06T13:08:39.402356Z",
     "iopub.status.idle": "2024-11-06T13:08:39.407548Z",
     "shell.execute_reply": "2024-11-06T13:08:39.406226Z"
    },
    "papermill": {
     "duration": 0.021554,
     "end_time": "2024-11-06T13:08:39.410133",
     "exception": false,
     "start_time": "2024-11-06T13:08:39.388579",
     "status": "completed"
    },
    "tags": []
   },
   "outputs": [],
   "source": [
    "#q4.hint()\n",
    "#q4.solution()"
   ]
  },
  {
   "cell_type": "markdown",
   "id": "8657fdfb",
   "metadata": {
    "papermill": {
     "duration": 0.011875,
     "end_time": "2024-11-06T13:08:39.434200",
     "exception": false,
     "start_time": "2024-11-06T13:08:39.422325",
     "status": "completed"
    },
    "tags": []
   },
   "source": [
    "# Keep Going\n",
    "\n",
    "Next up, you'll **[learn to write new functions and understand functions others write](https://www.kaggle.com/colinmorris/functions-and-getting-help)**. This will make you at least 10 times more productive as a Python programmer. "
   ]
  },
  {
   "cell_type": "markdown",
   "id": "5614580d",
   "metadata": {
    "papermill": {
     "duration": 0.011843,
     "end_time": "2024-11-06T13:08:39.458108",
     "exception": false,
     "start_time": "2024-11-06T13:08:39.446265",
     "status": "completed"
    },
    "tags": []
   },
   "source": [
    "---\n",
    "\n",
    "\n",
    "\n",
    "\n",
    "*Have questions or comments? Visit the [course discussion forum](https://www.kaggle.com/learn/python/discussion) to chat with other learners.*"
   ]
  }
 ],
 "metadata": {
  "kaggle": {
   "accelerator": "none",
   "dataSources": [],
   "isGpuEnabled": false,
   "isInternetEnabled": false,
   "language": "python",
   "sourceType": "notebook"
  },
  "kernelspec": {
   "display_name": "Python 3",
   "language": "python",
   "name": "python3"
  },
  "language_info": {
   "codemirror_mode": {
    "name": "ipython",
    "version": 3
   },
   "file_extension": ".py",
   "mimetype": "text/x-python",
   "name": "python",
   "nbconvert_exporter": "python",
   "pygments_lexer": "ipython3",
   "version": "3.10.14"
  },
  "learntools_metadata": {
   "lesson_index": 0,
   "type": "exercise"
  },
  "papermill": {
   "default_parameters": {},
   "duration": 6.076277,
   "end_time": "2024-11-06T13:08:39.991547",
   "environment_variables": {},
   "exception": null,
   "input_path": "__notebook__.ipynb",
   "output_path": "__notebook__.ipynb",
   "parameters": {},
   "start_time": "2024-11-06T13:08:33.915270",
   "version": "2.6.0"
  }
 },
 "nbformat": 4,
 "nbformat_minor": 5
}
